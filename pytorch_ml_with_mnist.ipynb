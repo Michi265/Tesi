{
 "cells": [
  {
   "cell_type": "code",
   "execution_count": 101,
   "metadata": {},
   "outputs": [
    {
     "name": "stdout",
     "output_type": "stream",
     "text": [
      "Using PyTorch version: 0.4.1.post2 CUDA: False\n"
     ]
    }
   ],
   "source": [
    "%matplotlib inline\n",
    "\n",
    "import torch\n",
    "import torch.nn as nn\n",
    "import torch.nn.functional as F\n",
    "import torch.optim as optim\n",
    "from torchvision import datasets, transforms\n",
    "from torch.autograd import Variable\n",
    "import tensorflow as tf\n",
    "import tensorflow.contrib.slim as slim\n",
    "\n",
    "\n",
    "import math\n",
    "\n",
    "import numpy as np\n",
    "import matplotlib.pyplot as plt\n",
    "import seaborn as sns\n",
    "from tensorflow.examples.tutorials.mnist import input_data\n",
    "\n",
    "cuda = torch.cuda.is_available()\n",
    "print('Using PyTorch version:', torch.__version__, 'CUDA:', cuda)\n",
    "\n",
    "#torch.manual_seed(42)\n",
    "#if cuda:\n",
    "#    torch.cuda.manual_seed(42)"
   ]
  },
  {
   "cell_type": "code",
   "execution_count": 87,
   "metadata": {},
   "outputs": [],
   "source": [
    "batch_size = 32\n",
    "\n",
    "kwargs = {'num_workers': 1, 'pin_memory': True} if cuda else {}\n",
    "\n",
    "\n",
    "train_loader = torch.utils.data.DataLoader(\n",
    "    datasets.MNIST('./data', train=True, download=True,\n",
    "                   transform=transforms.Compose([\n",
    "                       transforms.ToTensor(),\n",
    "                       transforms.Normalize((0.1307,), (0.3081,))\n",
    "                   ])),\n",
    "    batch_size=batch_size, shuffle=True, **kwargs)\n",
    "\n",
    "validation_loader = torch.utils.data.DataLoader(\n",
    "    datasets.MNIST('./data', train=False, transform=transforms.Compose([\n",
    "                       transforms.ToTensor(),\n",
    "                       transforms.Normalize((0.1307,), (0.3081,))\n",
    "                   ])),\n",
    "    batch_size=batch_size, shuffle=False, **kwargs)"
   ]
  },
  {
   "cell_type": "code",
   "execution_count": 88,
   "metadata": {},
   "outputs": [
    {
     "name": "stdout",
     "output_type": "stream",
     "text": [
      "X_train: torch.Size([32, 1, 28, 28]) type: torch.FloatTensor\n",
      "y_train: torch.Size([32]) type: torch.LongTensor\n"
     ]
    }
   ],
   "source": [
    "for (X_train, y_train) in train_loader:\n",
    "    print('X_train:', X_train.size(), 'type:', X_train.type())\n",
    "    print('y_train:', y_train.size(), 'type:', y_train.type())\n",
    "    break"
   ]
  },
  {
   "cell_type": "code",
   "execution_count": 89,
   "metadata": {},
   "outputs": [
    {
     "data": {
      "image/png": "[encoded data removed]",
      "text/plain": [
       "<matplotlib.figure.Figure at 0x7faaed4ed8d0>"
      ]
     },
     "metadata": {},
     "output_type": "display_data"
    }
   ],
   "source": [
    "pltsize=1\n",
    "plt.figure(figsize=(10*pltsize, pltsize))\n",
    "\n",
    "for i in range(10):\n",
    "    plt.subplot(1,10,i+1)\n",
    "    plt.axis('off')\n",
    "    plt.imshow(X_train[i,:,:,:].numpy().reshape(28,28), cmap=\"gray\")\n",
    "    plt.title('Class: '+str(y_train[i]))"
   ]
  },
  {
   "cell_type": "code",
   "execution_count": 90,
   "metadata": {},
   "outputs": [
    {
     "name": "stdout",
     "output_type": "stream",
     "text": [
      "Net(\n",
      "  (fc1): Linear(in_features=784, out_features=128, bias=True)\n",
      "  (fc1_drop): Dropout(p=0.2)\n",
      "  (fc2): Linear(in_features=128, out_features=128, bias=True)\n",
      "  (fc2_drop): Dropout(p=0.2)\n",
      "  (fc3): Linear(in_features=128, out_features=10, bias=True)\n",
      ")\n"
     ]
    }
   ],
   "source": [
    "class Net(nn.Module):\n",
    "    def __init__(self):\n",
    "        super(Net, self).__init__()\n",
    "        self.fc1 = nn.Linear(28*28, 128)\n",
    "        self.fc1_drop = nn.Dropout(0.2)\n",
    "        self.fc2 = nn.Linear(128, 128)\n",
    "        self.fc2_drop = nn.Dropout(0.2)\n",
    "        self.fc3 = nn.Linear(128, 10)\n",
    "\n",
    "    def forward(self, x):\n",
    "        x = x.view(-1, 28*28)\n",
    "        x = F.relu(self.fc1(x))\n",
    "        x = self.fc1_drop(x)\n",
    "        x = F.relu(self.fc2(x))\n",
    "        x = self.fc2_drop(x)\n",
    "        return F.log_softmax(self.fc3(x), 1)\n",
    "\n",
    "model = Net()\n",
    "if cuda:\n",
    "    model.cuda()\n",
    "    \n",
    "optimizer = optim.SGD(model.parameters(), lr=0.01, momentum=0.5)\n",
    "\n",
    "\n",
    "print(model)\n",
    "\n"
   ]
  },
  {
   "cell_type": "code",
   "execution_count": 91,
   "metadata": {
    "collapsed": true
   },
   "outputs": [],
   "source": [
    "def train(epoch, log_interval=100):\n",
    "    model.train()\n",
    "    for batch_idx, (data, target) in enumerate(train_loader):\n",
    "        if cuda:\n",
    "            data, target = data.cuda(), target.cuda()\n",
    "        data, target = Variable(data), Variable(target)\n",
    "        optimizer.zero_grad()\n",
    "        output = model(data)\n",
    "        loss = F.nll_loss(output, target)\n",
    "        loss.backward()\n",
    "        optimizer.step()\n",
    "        if batch_idx % log_interval == 0:\n",
    "            print('Train Epoch: {} [{}/{} ({:.0f}%)]\\tLoss: {:.6f}'.format(\n",
    "                epoch, batch_idx * len(data), len(train_loader.dataset),\n",
    "                100. * batch_idx / len(train_loader), loss.item()))"
   ]
  },
  {
   "cell_type": "code",
   "execution_count": 92,
   "metadata": {
    "collapsed": true
   },
   "outputs": [],
   "source": [
    "def validate(loss_vector, accuracy_vector):\n",
    "    model.eval()\n",
    "    val_loss, correct = 0, 0\n",
    "    for data, target in validation_loader:\n",
    "        if cuda:\n",
    "            data, target = data.cuda(), target.cuda()\n",
    "        data, target = Variable(data), Variable(target)\n",
    "        output = model(data)\n",
    "        val_loss += F.nll_loss(output, target).item()\n",
    "        pred = output.data.max(1)[1] # get the index of the max log-probability\n",
    "        correct += pred.eq(target.data).cpu().sum()\n",
    "\n",
    "    val_loss /= len(validation_loader)\n",
    "    loss_vector.append(val_loss)\n",
    "\n",
    "    accuracy = 100. * correct / len(validation_loader.dataset)\n",
    "    accuracy_vector.append(accuracy)\n",
    "    \n",
    "    print('\\nValidation set: Average loss: {:.4f}, Accuracy: {}/{} ({:.0f}%)\\n'.format(\n",
    "        val_loss, correct, len(validation_loader.dataset), accuracy))"
   ]
  },
  {
   "cell_type": "code",
   "execution_count": 93,
   "metadata": {},
   "outputs": [
    {
     "name": "stdout",
     "output_type": "stream",
     "text": [
      "Train Epoch: 1 [0/60000 (0%)]\tLoss: 2.251950\n",
      "Train Epoch: 1 [3200/60000 (5%)]\tLoss: 1.272796\n",
      "Train Epoch: 1 [6400/60000 (11%)]\tLoss: 0.978834\n",
      "Train Epoch: 1 [9600/60000 (16%)]\tLoss: 0.399526\n",
      "Train Epoch: 1 [12800/60000 (21%)]\tLoss: 0.573006\n",
      "Train Epoch: 1 [16000/60000 (27%)]\tLoss: 0.586279\n",
      "Train Epoch: 1 [19200/60000 (32%)]\tLoss: 0.669657\n",
      "Train Epoch: 1 [22400/60000 (37%)]\tLoss: 0.478197\n",
      "Train Epoch: 1 [25600/60000 (43%)]\tLoss: 0.380596\n",
      "Train Epoch: 1 [28800/60000 (48%)]\tLoss: 0.251704\n",
      "Train Epoch: 1 [32000/60000 (53%)]\tLoss: 0.366361\n",
      "Train Epoch: 1 [35200/60000 (59%)]\tLoss: 0.480957\n",
      "Train Epoch: 1 [38400/60000 (64%)]\tLoss: 0.221363\n",
      "Train Epoch: 1 [41600/60000 (69%)]\tLoss: 0.182270\n",
      "Train Epoch: 1 [44800/60000 (75%)]\tLoss: 0.248867\n",
      "Train Epoch: 1 [48000/60000 (80%)]\tLoss: 0.745333\n",
      "Train Epoch: 1 [51200/60000 (85%)]\tLoss: 0.137605\n",
      "Train Epoch: 1 [54400/60000 (91%)]\tLoss: 0.382545\n",
      "Train Epoch: 1 [57600/60000 (96%)]\tLoss: 0.403019\n",
      "\n",
      "Validation set: Average loss: 0.2006, Accuracy: 9393/10000 (93%)\n",
      "\n",
      "Train Epoch: 2 [0/60000 (0%)]\tLoss: 0.257652\n",
      "Train Epoch: 2 [3200/60000 (5%)]\tLoss: 0.281847\n",
      "Train Epoch: 2 [6400/60000 (11%)]\tLoss: 0.176675\n",
      "Train Epoch: 2 [9600/60000 (16%)]\tLoss: 0.283625\n",
      "Train Epoch: 2 [12800/60000 (21%)]\tLoss: 0.293689\n",
      "Train Epoch: 2 [16000/60000 (27%)]\tLoss: 0.256050\n",
      "Train Epoch: 2 [19200/60000 (32%)]\tLoss: 0.091275\n",
      "Train Epoch: 2 [22400/60000 (37%)]\tLoss: 0.394599\n",
      "Train Epoch: 2 [25600/60000 (43%)]\tLoss: 0.106163\n",
      "Train Epoch: 2 [28800/60000 (48%)]\tLoss: 0.116133\n",
      "Train Epoch: 2 [32000/60000 (53%)]\tLoss: 0.182805\n",
      "Train Epoch: 2 [35200/60000 (59%)]\tLoss: 0.202203\n",
      "Train Epoch: 2 [38400/60000 (64%)]\tLoss: 0.156812\n",
      "Train Epoch: 2 [41600/60000 (69%)]\tLoss: 0.157838\n",
      "Train Epoch: 2 [44800/60000 (75%)]\tLoss: 0.138442\n",
      "Train Epoch: 2 [48000/60000 (80%)]\tLoss: 0.130390\n",
      "Train Epoch: 2 [51200/60000 (85%)]\tLoss: 0.421472\n",
      "Train Epoch: 2 [54400/60000 (91%)]\tLoss: 0.279927\n",
      "Train Epoch: 2 [57600/60000 (96%)]\tLoss: 0.137447\n",
      "\n",
      "Validation set: Average loss: 0.1423, Accuracy: 9553/10000 (95%)\n",
      "\n",
      "Train Epoch: 3 [0/60000 (0%)]\tLoss: 0.274545\n",
      "Train Epoch: 3 [3200/60000 (5%)]\tLoss: 0.352504\n",
      "Train Epoch: 3 [6400/60000 (11%)]\tLoss: 0.028318\n",
      "Train Epoch: 3 [9600/60000 (16%)]\tLoss: 0.230068\n",
      "Train Epoch: 3 [12800/60000 (21%)]\tLoss: 0.150794\n",
      "Train Epoch: 3 [16000/60000 (27%)]\tLoss: 0.083378\n",
      "Train Epoch: 3 [19200/60000 (32%)]\tLoss: 0.416630\n",
      "Train Epoch: 3 [22400/60000 (37%)]\tLoss: 0.455778\n",
      "Train Epoch: 3 [25600/60000 (43%)]\tLoss: 0.135664\n",
      "Train Epoch: 3 [28800/60000 (48%)]\tLoss: 0.500937\n",
      "Train Epoch: 3 [32000/60000 (53%)]\tLoss: 0.316859\n",
      "Train Epoch: 3 [35200/60000 (59%)]\tLoss: 0.052979\n",
      "Train Epoch: 3 [38400/60000 (64%)]\tLoss: 0.353944\n",
      "Train Epoch: 3 [41600/60000 (69%)]\tLoss: 0.056123\n",
      "Train Epoch: 3 [44800/60000 (75%)]\tLoss: 0.116763\n",
      "Train Epoch: 3 [48000/60000 (80%)]\tLoss: 0.152251\n",
      "Train Epoch: 3 [51200/60000 (85%)]\tLoss: 0.103149\n",
      "Train Epoch: 3 [54400/60000 (91%)]\tLoss: 0.207330\n",
      "Train Epoch: 3 [57600/60000 (96%)]\tLoss: 0.097840\n",
      "\n",
      "Validation set: Average loss: 0.1124, Accuracy: 9648/10000 (96%)\n",
      "\n",
      "Train Epoch: 4 [0/60000 (0%)]\tLoss: 0.035257\n",
      "Train Epoch: 4 [3200/60000 (5%)]\tLoss: 0.312537\n",
      "Train Epoch: 4 [6400/60000 (11%)]\tLoss: 0.058815\n",
      "Train Epoch: 4 [9600/60000 (16%)]\tLoss: 0.075512\n",
      "Train Epoch: 4 [12800/60000 (21%)]\tLoss: 0.042244\n",
      "Train Epoch: 4 [16000/60000 (27%)]\tLoss: 0.176557\n",
      "Train Epoch: 4 [19200/60000 (32%)]\tLoss: 0.095204\n",
      "Train Epoch: 4 [22400/60000 (37%)]\tLoss: 0.386079\n",
      "Train Epoch: 4 [25600/60000 (43%)]\tLoss: 0.232746\n",
      "Train Epoch: 4 [28800/60000 (48%)]\tLoss: 0.089356\n",
      "Train Epoch: 4 [32000/60000 (53%)]\tLoss: 0.120470\n",
      "Train Epoch: 4 [35200/60000 (59%)]\tLoss: 0.174648\n",
      "Train Epoch: 4 [38400/60000 (64%)]\tLoss: 0.081145\n",
      "Train Epoch: 4 [41600/60000 (69%)]\tLoss: 0.114230\n",
      "Train Epoch: 4 [44800/60000 (75%)]\tLoss: 0.047053\n",
      "Train Epoch: 4 [48000/60000 (80%)]\tLoss: 0.093165\n",
      "Train Epoch: 4 [51200/60000 (85%)]\tLoss: 0.102020\n",
      "Train Epoch: 4 [54400/60000 (91%)]\tLoss: 0.163651\n",
      "Train Epoch: 4 [57600/60000 (96%)]\tLoss: 0.052600\n",
      "\n",
      "Validation set: Average loss: 0.0975, Accuracy: 9695/10000 (96%)\n",
      "\n",
      "Train Epoch: 5 [0/60000 (0%)]\tLoss: 0.100720\n",
      "Train Epoch: 5 [3200/60000 (5%)]\tLoss: 0.265443\n",
      "Train Epoch: 5 [6400/60000 (11%)]\tLoss: 0.190054\n",
      "Train Epoch: 5 [9600/60000 (16%)]\tLoss: 0.162307\n",
      "Train Epoch: 5 [12800/60000 (21%)]\tLoss: 0.442544\n",
      "Train Epoch: 5 [16000/60000 (27%)]\tLoss: 0.385111\n",
      "Train Epoch: 5 [19200/60000 (32%)]\tLoss: 0.154054\n",
      "Train Epoch: 5 [22400/60000 (37%)]\tLoss: 0.198882\n",
      "Train Epoch: 5 [25600/60000 (43%)]\tLoss: 0.042873\n",
      "Train Epoch: 5 [28800/60000 (48%)]\tLoss: 0.094112\n",
      "Train Epoch: 5 [32000/60000 (53%)]\tLoss: 0.151204\n",
      "Train Epoch: 5 [35200/60000 (59%)]\tLoss: 0.188993\n",
      "Train Epoch: 5 [38400/60000 (64%)]\tLoss: 0.174803\n",
      "Train Epoch: 5 [41600/60000 (69%)]\tLoss: 0.082325\n",
      "Train Epoch: 5 [44800/60000 (75%)]\tLoss: 0.079606\n",
      "Train Epoch: 5 [48000/60000 (80%)]\tLoss: 0.018441\n",
      "Train Epoch: 5 [51200/60000 (85%)]\tLoss: 0.108886\n",
      "Train Epoch: 5 [54400/60000 (91%)]\tLoss: 0.061593\n",
      "Train Epoch: 5 [57600/60000 (96%)]\tLoss: 0.179228\n",
      "\n",
      "Validation set: Average loss: 0.0873, Accuracy: 9731/10000 (97%)\n",
      "\n",
      "Train Epoch: 6 [0/60000 (0%)]\tLoss: 0.140051\n",
      "Train Epoch: 6 [3200/60000 (5%)]\tLoss: 0.097697\n",
      "Train Epoch: 6 [6400/60000 (11%)]\tLoss: 0.095897\n",
      "Train Epoch: 6 [9600/60000 (16%)]\tLoss: 0.203708\n",
      "Train Epoch: 6 [12800/60000 (21%)]\tLoss: 0.189142\n",
      "Train Epoch: 6 [16000/60000 (27%)]\tLoss: 0.090815\n",
      "Train Epoch: 6 [19200/60000 (32%)]\tLoss: 0.234323\n",
      "Train Epoch: 6 [22400/60000 (37%)]\tLoss: 0.290311\n",
      "Train Epoch: 6 [25600/60000 (43%)]\tLoss: 0.100954\n",
      "Train Epoch: 6 [28800/60000 (48%)]\tLoss: 0.172751\n",
      "Train Epoch: 6 [32000/60000 (53%)]\tLoss: 0.328533\n",
      "Train Epoch: 6 [35200/60000 (59%)]\tLoss: 0.113101\n",
      "Train Epoch: 6 [38400/60000 (64%)]\tLoss: 0.006840\n",
      "Train Epoch: 6 [41600/60000 (69%)]\tLoss: 0.057992\n",
      "Train Epoch: 6 [44800/60000 (75%)]\tLoss: 0.158278\n",
      "Train Epoch: 6 [48000/60000 (80%)]\tLoss: 0.103821\n",
      "Train Epoch: 6 [51200/60000 (85%)]\tLoss: 0.046371\n",
      "Train Epoch: 6 [54400/60000 (91%)]\tLoss: 0.108498\n",
      "Train Epoch: 6 [57600/60000 (96%)]\tLoss: 0.041442\n",
      "\n",
      "Validation set: Average loss: 0.0839, Accuracy: 9733/10000 (97%)\n",
      "\n",
      "Train Epoch: 7 [0/60000 (0%)]\tLoss: 0.161541\n",
      "Train Epoch: 7 [3200/60000 (5%)]\tLoss: 0.035446\n",
      "Train Epoch: 7 [6400/60000 (11%)]\tLoss: 0.217837\n",
      "Train Epoch: 7 [9600/60000 (16%)]\tLoss: 0.112750\n",
      "Train Epoch: 7 [12800/60000 (21%)]\tLoss: 0.036082\n",
      "Train Epoch: 7 [16000/60000 (27%)]\tLoss: 0.129013\n",
      "Train Epoch: 7 [19200/60000 (32%)]\tLoss: 0.079506\n",
      "Train Epoch: 7 [22400/60000 (37%)]\tLoss: 0.148972\n",
      "Train Epoch: 7 [25600/60000 (43%)]\tLoss: 0.272114\n",
      "Train Epoch: 7 [28800/60000 (48%)]\tLoss: 0.107184\n",
      "Train Epoch: 7 [32000/60000 (53%)]\tLoss: 0.148985\n",
      "Train Epoch: 7 [35200/60000 (59%)]\tLoss: 0.226297\n",
      "Train Epoch: 7 [38400/60000 (64%)]\tLoss: 0.218463\n",
      "Train Epoch: 7 [41600/60000 (69%)]\tLoss: 0.087381\n",
      "Train Epoch: 7 [44800/60000 (75%)]\tLoss: 0.017081\n",
      "Train Epoch: 7 [48000/60000 (80%)]\tLoss: 0.021259\n",
      "Train Epoch: 7 [51200/60000 (85%)]\tLoss: 0.013183\n",
      "Train Epoch: 7 [54400/60000 (91%)]\tLoss: 0.042786\n",
      "Train Epoch: 7 [57600/60000 (96%)]\tLoss: 0.159278\n",
      "\n",
      "Validation set: Average loss: 0.0814, Accuracy: 9751/10000 (97%)\n",
      "\n",
      "Train Epoch: 8 [0/60000 (0%)]\tLoss: 0.043460\n",
      "Train Epoch: 8 [3200/60000 (5%)]\tLoss: 0.043193\n",
      "Train Epoch: 8 [6400/60000 (11%)]\tLoss: 0.036317\n",
      "Train Epoch: 8 [9600/60000 (16%)]\tLoss: 0.012493\n",
      "Train Epoch: 8 [12800/60000 (21%)]\tLoss: 0.099185\n",
      "Train Epoch: 8 [16000/60000 (27%)]\tLoss: 0.074474\n",
      "Train Epoch: 8 [19200/60000 (32%)]\tLoss: 0.064689\n",
      "Train Epoch: 8 [22400/60000 (37%)]\tLoss: 0.073051\n",
      "Train Epoch: 8 [25600/60000 (43%)]\tLoss: 0.013485\n",
      "Train Epoch: 8 [28800/60000 (48%)]\tLoss: 0.083266\n",
      "Train Epoch: 8 [32000/60000 (53%)]\tLoss: 0.032158\n",
      "Train Epoch: 8 [35200/60000 (59%)]\tLoss: 0.050430\n",
      "Train Epoch: 8 [38400/60000 (64%)]\tLoss: 0.119680\n",
      "Train Epoch: 8 [41600/60000 (69%)]\tLoss: 0.101029\n",
      "Train Epoch: 8 [44800/60000 (75%)]\tLoss: 0.043673\n",
      "Train Epoch: 8 [48000/60000 (80%)]\tLoss: 0.048060\n",
      "Train Epoch: 8 [51200/60000 (85%)]\tLoss: 0.066925\n",
      "Train Epoch: 8 [54400/60000 (91%)]\tLoss: 0.032761\n",
      "Train Epoch: 8 [57600/60000 (96%)]\tLoss: 0.090139\n",
      "\n",
      "Validation set: Average loss: 0.0752, Accuracy: 9778/10000 (97%)\n",
      "\n",
      "Train Epoch: 9 [0/60000 (0%)]\tLoss: 0.177919\n",
      "Train Epoch: 9 [3200/60000 (5%)]\tLoss: 0.652723\n",
      "Train Epoch: 9 [6400/60000 (11%)]\tLoss: 0.123485\n"
     ]
    },
    {
     "name": "stdout",
     "output_type": "stream",
     "text": [
      "Train Epoch: 9 [9600/60000 (16%)]\tLoss: 0.055748\n",
      "Train Epoch: 9 [12800/60000 (21%)]\tLoss: 0.030685\n",
      "Train Epoch: 9 [16000/60000 (27%)]\tLoss: 0.015350\n",
      "Train Epoch: 9 [19200/60000 (32%)]\tLoss: 0.136771\n",
      "Train Epoch: 9 [22400/60000 (37%)]\tLoss: 0.059863\n",
      "Train Epoch: 9 [25600/60000 (43%)]\tLoss: 0.063505\n",
      "Train Epoch: 9 [28800/60000 (48%)]\tLoss: 0.098249\n",
      "Train Epoch: 9 [32000/60000 (53%)]\tLoss: 0.109917\n",
      "Train Epoch: 9 [35200/60000 (59%)]\tLoss: 0.017586\n",
      "Train Epoch: 9 [38400/60000 (64%)]\tLoss: 0.107423\n",
      "Train Epoch: 9 [41600/60000 (69%)]\tLoss: 0.007149\n",
      "Train Epoch: 9 [44800/60000 (75%)]\tLoss: 0.145542\n",
      "Train Epoch: 9 [48000/60000 (80%)]\tLoss: 0.043073\n",
      "Train Epoch: 9 [51200/60000 (85%)]\tLoss: 0.034006\n",
      "Train Epoch: 9 [54400/60000 (91%)]\tLoss: 0.023013\n",
      "Train Epoch: 9 [57600/60000 (96%)]\tLoss: 0.110353\n",
      "\n",
      "Validation set: Average loss: 0.0751, Accuracy: 9782/10000 (97%)\n",
      "\n",
      "Train Epoch: 10 [0/60000 (0%)]\tLoss: 0.096279\n",
      "Train Epoch: 10 [3200/60000 (5%)]\tLoss: 0.205089\n",
      "Train Epoch: 10 [6400/60000 (11%)]\tLoss: 0.174017\n",
      "Train Epoch: 10 [9600/60000 (16%)]\tLoss: 0.012491\n",
      "Train Epoch: 10 [12800/60000 (21%)]\tLoss: 0.258899\n",
      "Train Epoch: 10 [16000/60000 (27%)]\tLoss: 0.060584\n",
      "Train Epoch: 10 [19200/60000 (32%)]\tLoss: 0.166532\n",
      "Train Epoch: 10 [22400/60000 (37%)]\tLoss: 0.101630\n",
      "Train Epoch: 10 [25600/60000 (43%)]\tLoss: 0.109479\n",
      "Train Epoch: 10 [28800/60000 (48%)]\tLoss: 0.006777\n",
      "Train Epoch: 10 [32000/60000 (53%)]\tLoss: 0.014183\n",
      "Train Epoch: 10 [35200/60000 (59%)]\tLoss: 0.019487\n",
      "Train Epoch: 10 [38400/60000 (64%)]\tLoss: 0.028913\n",
      "Train Epoch: 10 [41600/60000 (69%)]\tLoss: 0.062065\n",
      "Train Epoch: 10 [44800/60000 (75%)]\tLoss: 0.038545\n",
      "Train Epoch: 10 [48000/60000 (80%)]\tLoss: 0.058405\n",
      "Train Epoch: 10 [51200/60000 (85%)]\tLoss: 0.033190\n",
      "Train Epoch: 10 [54400/60000 (91%)]\tLoss: 0.032278\n",
      "Train Epoch: 10 [57600/60000 (96%)]\tLoss: 0.024487\n",
      "\n",
      "Validation set: Average loss: 0.0688, Accuracy: 9787/10000 (97%)\n",
      "\n",
      "CPU times: user 4min 44s, sys: 2.48 s, total: 4min 47s\n",
      "Wall time: 1min 41s\n"
     ]
    }
   ],
   "source": [
    "%%time\n",
    "epochs = 10\n",
    "\n",
    "lossv, accv = [], []\n",
    "for epoch in range(1, epochs + 1):\n",
    "    train(epoch)\n",
    "    validate(lossv, accv)"
   ]
  },
  {
   "cell_type": "code",
   "execution_count": 94,
   "metadata": {},
   "outputs": [
    {
     "data": {
      "image/png": "[encoded data removed]",
      "text/plain": [
       "<matplotlib.figure.Figure at 0x7faaecb52048>"
      ]
     },
     "metadata": {},
     "output_type": "display_data"
    },
    {
     "data": {
      "image/png": "[encoded data removed]",
      "text/plain": [
       "<matplotlib.figure.Figure at 0x7faaecaf30b8>"
      ]
     },
     "metadata": {},
     "output_type": "display_data"
    }
   ],
   "source": [
    "plt.figure(figsize=(5,3))\n",
    "plt.plot(np.arange(1,epochs+1), lossv)\n",
    "plt.title('validation loss')\n",
    "\n",
    "plt.figure(figsize=(5,3))\n",
    "plt.plot(np.arange(1,epochs+1), accv)\n",
    "plt.title('validation accuracy');"
   ]
  },
  {
   "cell_type": "code",
   "execution_count": 95,
   "metadata": {},
   "outputs": [
    {
     "name": "stderr",
     "output_type": "stream",
     "text": [
      "/home/michela/anaconda3/lib/python3.6/site-packages/torch/serialization.py:241: UserWarning: Couldn't retrieve source code for container of type Net. It won't be checked for correctness upon loading.\n",
      "  \"type \" + obj.__name__ + \". It won't be checked \"\n"
     ]
    }
   ],
   "source": [
    "torch.save(model, 'myModel.pt')"
   ]
  },
  {
   "cell_type": "code",
   "execution_count": 96,
   "metadata": {
    "collapsed": true
   },
   "outputs": [],
   "source": [
    "def getActivations(layer,stimuli):\n",
    "    units = sess.run(layer,feed_dict={x:np.reshape(stimuli,[1,784],order='F'),keep_prob:1.0})\n",
    "    plotNNFilter(units)"
   ]
  },
  {
   "cell_type": "code",
   "execution_count": 97,
   "metadata": {
    "collapsed": true
   },
   "outputs": [],
   "source": [
    "def plotNNFilter(units):\n",
    "    filters = units.shape[3]\n",
    "    plt.figure(1, figsize=(20,20))\n",
    "    n_columns = 6\n",
    "    n_rows = math.ceil(filters / n_columns) + 1\n",
    "    for i in range(filters):\n",
    "        plt.subplot(n_rows, n_columns, i+1)\n",
    "        plt.title('Filter ' + str(i))\n",
    "        plt.imshow(units[0,:,:,i], interpolation=\"nearest\", cmap=\"gray\")\n"
   ]
  },
  {
   "cell_type": "code",
   "execution_count": 98,
   "metadata": {},
   "outputs": [
    {
     "data": {
      "text/plain": [
       "<matplotlib.image.AxesImage at 0x7faaecc876d8>"
      ]
     },
     "execution_count": 98,
     "metadata": {},
     "output_type": "execute_result"
    },
    {
     "data": {
      "image/png": "[encoded data removed]",
      "text/plain": [
       "<matplotlib.figure.Figure at 0x7faaec9c28d0>"
      ]
     },
     "metadata": {},
     "output_type": "display_data"
    }
   ],
   "source": [
    "imageToUse = X_train[0]\n",
    "plt.imshow(np.reshape(imageToUse,[28,28]), interpolation=\"nearest\", cmap=\"gray\")"
   ]
  },
  {
   "cell_type": "code",
   "execution_count": null,
   "metadata": {
    "collapsed": true
   },
   "outputs": [],
   "source": []
  }
 ],
 "metadata": {
  "kernelspec": {
   "display_name": "Python 3",
   "language": "python",
   "name": "python3"
  },
  "language_info": {
   "codemirror_mode": {
    "name": "ipython",
    "version": 3
   },
   "file_extension": ".py",
   "mimetype": "text/x-python",
   "name": "python",
   "nbconvert_exporter": "python",
   "pygments_lexer": "ipython3",
   "version": "3.6.3"
  }
 },
 "nbformat": 4,
 "nbformat_minor": 2
}
